{
 "cells": [
  {
   "cell_type": "markdown",
   "metadata": {},
   "source": [
    "# Generate Gaussian Samples"
   ]
  },
  {
   "cell_type": "markdown",
   "metadata": {},
   "source": [
    "## Positive Samples\n",
    "\n",
    "We are going to demostrate the RBF network for 3 dimensional Guassian distribution."
   ]
  },
  {
   "cell_type": "code",
   "execution_count": 31,
   "metadata": {},
   "outputs": [],
   "source": [
    "import numpy as np\n",
    "import tensorflow as tf\n",
    "import pandas as pd\n",
    "pd.set_option(\"display.max_rows\",15)\n",
    "import matplotlib.pyplot as plt\n",
    "%matplotlib inline"
   ]
  },
  {
   "cell_type": "code",
   "execution_count": 55,
   "metadata": {},
   "outputs": [
    {
     "name": "stderr",
     "output_type": "stream",
     "text": [
      "/home/kvpcloud/miniconda3/envs/p3/lib/python3.6/site-packages/ipykernel_launcher.py:19: RuntimeWarning: covariance is not positive-semidefinite.\n",
      "/home/kvpcloud/miniconda3/envs/p3/lib/python3.6/site-packages/ipykernel_launcher.py:22: RuntimeWarning: covariance is not positive-semidefinite.\n",
      "/home/kvpcloud/miniconda3/envs/p3/lib/python3.6/site-packages/ipykernel_launcher.py:25: RuntimeWarning: covariance is not positive-semidefinite.\n",
      "/home/kvpcloud/miniconda3/envs/p3/lib/python3.6/site-packages/ipykernel_launcher.py:28: RuntimeWarning: covariance is not positive-semidefinite.\n"
     ]
    }
   ],
   "source": [
    "class hp:\n",
    "    n = 1000\n",
    "    f = 2\n",
    "\n",
    "train_mean = np.full(shape=(hp.f), fill_value = 0)\n",
    "train_var = [[1,0.6],[0.2,3]]\n",
    "\n",
    "test_mean_1 = np.full(shape=(hp.f), fill_value = 0.5)\n",
    "test_var_1 = [[1,1.6],[1.6,2]]\n",
    "test_mean_2 = np.full(shape=(hp.f), fill_value = 10)\n",
    "test_var_2 = [[1,0.6],[2.2,3]]\n",
    "test_mean_3 = np.full(shape=(hp.f), fill_value = 20)\n",
    "test_var_3 = [[1,0.6],[0.2,3]]\n",
    "\n",
    "\n",
    "\n",
    "class Dataset:\n",
    "    train_positive = pd.DataFrame(\n",
    "        np.random.multivariate_normal(mean=train_mean, cov=train_var, size = hp.n))\n",
    "    \n",
    "    test_negative_1 = pd.DataFrame(\n",
    "        np.random.multivariate_normal(mean=test_mean_1, cov=test_var_1, size = hp.n))\n",
    "    \n",
    "    test_negative_2 = pd.DataFrame(\n",
    "        np.random.multivariate_normal(mean=test_mean_2, cov=test_var_2, size = hp.n))\n",
    "    \n",
    "    test_negative_3 = pd.DataFrame(\n",
    "        np.random.multivariate_normal(mean=test_mean_3, cov=test_var_3, size = hp.n))\n",
    "    "
   ]
  },
  {
   "cell_type": "markdown",
   "metadata": {},
   "source": [
    "## Negative Samples"
   ]
  },
  {
   "cell_type": "code",
   "execution_count": 39,
   "metadata": {},
   "outputs": [
    {
     "data": {
      "text/html": [
       "<div>\n",
       "<style scoped>\n",
       "    .dataframe tbody tr th:only-of-type {\n",
       "        vertical-align: middle;\n",
       "    }\n",
       "\n",
       "    .dataframe tbody tr th {\n",
       "        vertical-align: top;\n",
       "    }\n",
       "\n",
       "    .dataframe thead th {\n",
       "        text-align: right;\n",
       "    }\n",
       "</style>\n",
       "<table border=\"1\" class=\"dataframe\">\n",
       "  <thead>\n",
       "    <tr style=\"text-align: right;\">\n",
       "      <th></th>\n",
       "      <th>0</th>\n",
       "      <th>1</th>\n",
       "    </tr>\n",
       "  </thead>\n",
       "  <tbody>\n",
       "    <tr>\n",
       "      <th>0</th>\n",
       "      <td>-0.725834</td>\n",
       "      <td>-2.363418</td>\n",
       "    </tr>\n",
       "    <tr>\n",
       "      <th>1</th>\n",
       "      <td>0.322537</td>\n",
       "      <td>-0.936481</td>\n",
       "    </tr>\n",
       "    <tr>\n",
       "      <th>2</th>\n",
       "      <td>-0.278084</td>\n",
       "      <td>0.873825</td>\n",
       "    </tr>\n",
       "    <tr>\n",
       "      <th>3</th>\n",
       "      <td>0.361514</td>\n",
       "      <td>0.716057</td>\n",
       "    </tr>\n",
       "    <tr>\n",
       "      <th>4</th>\n",
       "      <td>-1.248279</td>\n",
       "      <td>-0.436798</td>\n",
       "    </tr>\n",
       "    <tr>\n",
       "      <th>5</th>\n",
       "      <td>-0.522175</td>\n",
       "      <td>-0.104134</td>\n",
       "    </tr>\n",
       "    <tr>\n",
       "      <th>6</th>\n",
       "      <td>-0.120882</td>\n",
       "      <td>0.647332</td>\n",
       "    </tr>\n",
       "    <tr>\n",
       "      <th>...</th>\n",
       "      <td>...</td>\n",
       "      <td>...</td>\n",
       "    </tr>\n",
       "    <tr>\n",
       "      <th>993</th>\n",
       "      <td>-0.385581</td>\n",
       "      <td>-0.063112</td>\n",
       "    </tr>\n",
       "    <tr>\n",
       "      <th>994</th>\n",
       "      <td>0.916363</td>\n",
       "      <td>1.031185</td>\n",
       "    </tr>\n",
       "    <tr>\n",
       "      <th>995</th>\n",
       "      <td>-0.869927</td>\n",
       "      <td>-1.594968</td>\n",
       "    </tr>\n",
       "    <tr>\n",
       "      <th>996</th>\n",
       "      <td>-0.111543</td>\n",
       "      <td>0.687842</td>\n",
       "    </tr>\n",
       "    <tr>\n",
       "      <th>997</th>\n",
       "      <td>0.129469</td>\n",
       "      <td>-2.317258</td>\n",
       "    </tr>\n",
       "    <tr>\n",
       "      <th>998</th>\n",
       "      <td>-0.958650</td>\n",
       "      <td>0.522868</td>\n",
       "    </tr>\n",
       "    <tr>\n",
       "      <th>999</th>\n",
       "      <td>-1.982453</td>\n",
       "      <td>-3.550321</td>\n",
       "    </tr>\n",
       "  </tbody>\n",
       "</table>\n",
       "<p>1000 rows × 2 columns</p>\n",
       "</div>"
      ],
      "text/plain": [
       "            0         1\n",
       "0   -0.725834 -2.363418\n",
       "1    0.322537 -0.936481\n",
       "2   -0.278084  0.873825\n",
       "3    0.361514  0.716057\n",
       "4   -1.248279 -0.436798\n",
       "5   -0.522175 -0.104134\n",
       "6   -0.120882  0.647332\n",
       "..        ...       ...\n",
       "993 -0.385581 -0.063112\n",
       "994  0.916363  1.031185\n",
       "995 -0.869927 -1.594968\n",
       "996 -0.111543  0.687842\n",
       "997  0.129469 -2.317258\n",
       "998 -0.958650  0.522868\n",
       "999 -1.982453 -3.550321\n",
       "\n",
       "[1000 rows x 2 columns]"
      ]
     },
     "execution_count": 39,
     "metadata": {},
     "output_type": "execute_result"
    }
   ],
   "source": [
    "Dataset.train_positive"
   ]
  },
  {
   "cell_type": "markdown",
   "metadata": {},
   "source": [
    "Training Data (Normal)"
   ]
  },
  {
   "cell_type": "code",
   "execution_count": 60,
   "metadata": {},
   "outputs": [
    {
     "data": {
      "text/plain": [
       "<matplotlib.axes._subplots.AxesSubplot at 0x7f74bba29ba8>"
      ]
     },
     "execution_count": 60,
     "metadata": {},
     "output_type": "execute_result"
    },
    {
     "data": {
      "image/png": "[encoded data removed]",
      "text/plain": [
       "<Figure size 432x288 with 1 Axes>"
      ]
     },
     "metadata": {},
     "output_type": "display_data"
    }
   ],
   "source": [
    "Dataset.train_positive.plot.scatter(x=0, y=1)"
   ]
  },
  {
   "cell_type": "markdown",
   "metadata": {},
   "source": [
    "Testing Data 1 (Anamoly)\n",
    "\n",
    "Similar Mean Different Variation"
   ]
  },
  {
   "cell_type": "code",
   "execution_count": 59,
   "metadata": {},
   "outputs": [
    {
     "data": {
      "text/plain": [
       "<matplotlib.axes._subplots.AxesSubplot at 0x7f74bba5b470>"
      ]
     },
     "execution_count": 59,
     "metadata": {},
     "output_type": "execute_result"
    },
    {
     "data": {
      "image/png": "[encoded data removed]",
      "text/plain": [
       "<Figure size 432x288 with 1 Axes>"
      ]
     },
     "metadata": {},
     "output_type": "display_data"
    }
   ],
   "source": [
    "Dataset.test_negative_1.plot.scatter(x=0, y=1)"
   ]
  },
  {
   "cell_type": "markdown",
   "metadata": {},
   "source": [
    "Testing Data 2 (Anamoly)\n",
    "\n",
    "Different Mean Different Variation"
   ]
  },
  {
   "cell_type": "code",
   "execution_count": 58,
   "metadata": {},
   "outputs": [
    {
     "data": {
      "text/plain": [
       "<matplotlib.axes._subplots.AxesSubplot at 0x7f74bba87f60>"
      ]
     },
     "execution_count": 58,
     "metadata": {},
     "output_type": "execute_result"
    },
    {
     "data": {
      "image/png": "[encoded data removed]",
      "text/plain": [
       "<Figure size 432x288 with 1 Axes>"
      ]
     },
     "metadata": {},
     "output_type": "display_data"
    }
   ],
   "source": [
    "Dataset.test_negative_2.plot.scatter(x=0, y=1)"
   ]
  },
  {
   "cell_type": "markdown",
   "metadata": {},
   "source": [
    "Testing Data 3 (Anamoly)\n",
    "\n",
    "Different Mean similar Variation "
   ]
  },
  {
   "cell_type": "code",
   "execution_count": 57,
   "metadata": {},
   "outputs": [
    {
     "data": {
      "text/plain": [
       "<matplotlib.axes._subplots.AxesSubplot at 0x7f74bbb2f320>"
      ]
     },
     "execution_count": 57,
     "metadata": {},
     "output_type": "execute_result"
    },
    {
     "data": {
      "image/png": "[encoded data removed]",
      "text/plain": [
       "<Figure size 432x288 with 1 Axes>"
      ]
     },
     "metadata": {},
     "output_type": "display_data"
    }
   ],
   "source": [
    "Dataset.test_negative_3.plot.scatter(x=0, y=1)"
   ]
  },
  {
   "cell_type": "code",
   "execution_count": 94,
   "metadata": {},
   "outputs": [
    {
     "data": {
      "text/plain": [
       "<matplotlib.legend.Legend at 0x7f74ba0f1d68>"
      ]
     },
     "execution_count": 94,
     "metadata": {},
     "output_type": "execute_result"
    },
    {
     "data": {
      "image/png": "[encoded data removed]",
      "text/plain": [
       "<Figure size 432x288 with 1 Axes>"
      ]
     },
     "metadata": {},
     "output_type": "display_data"
    }
   ],
   "source": [
    "plt.plot(Dataset.train_positive[0], Dataset.train_positive[1], 'y*', label='train')\n",
    "\n",
    "plt.plot(Dataset.test_negative_1[0], Dataset.test_negative_1[1], 'b.', label='Test 1')\n",
    "plt.plot(Dataset.test_negative_2[0], Dataset.test_negative_2[1], 'r.', label='Test 2')\n",
    "plt.plot(Dataset.test_negative_3[0], Dataset.test_negative_3[1], 'g.', label='Test 3')\n",
    "plt.legend()"
   ]
  },
  {
   "cell_type": "markdown",
   "metadata": {},
   "source": []
  },
  {
   "cell_type": "code",
   "execution_count": 97,
   "metadata": {},
   "outputs": [],
   "source": [
    "\n",
    "\n",
    "class network:\n",
    "    \n",
    "    params = {}\n",
    "    \n",
    "    def __init__(self):\n",
    "        self.X = tf.placeholder(tf.float32, [hp.n, hp.f])\n",
    "        \n",
    "    def get_cost(self, U, Q, Q_, Z):\n",
    "        \n",
    "        inverse_regularizer = tf.pow((tf.matmul(Q, Q_) - tf.eye(hp.f)), 2)\n",
    "        cost = -(U + tf.log(Z) + tf.reduce_sum(inverse_regularizer))\n",
    "        \n",
    "        self.params.update({'U_':tf.reduce_mean(U), 'logZ':tf.log(Z), 'ir': tf.reduce_sum(inverse_regularizer)})\n",
    "        return tf.reduce_mean(cost)\n",
    "    \n",
    "    def get_optimizer(self):\n",
    "        \n",
    "        n = hp.n\n",
    "        f = hp.f\n",
    "        \n",
    "        X = self.X\n",
    "        \n",
    "        P = tf.Variable(tf.truncated_normal([f]))\n",
    "        Q = tf.Variable(tf.truncated_normal([f,f]))\n",
    "        Q_ = tf.Variable(tf.truncated_normal([f,f]))\n",
    "\n",
    "        M = P - tf.matmul(X, Q)\n",
    "        print('M', M.get_shape())\n",
    "        \n",
    "        R = tf.matmul(M, Q_)\n",
    "        print('R', R.get_shape())\n",
    "        \n",
    "        V = tf.matmul(R, tf.transpose(M))\n",
    "        print('V', V.get_shape())\n",
    "        \n",
    "        U = tf.reduce_sum(V, axis = 1, keepdims = True)\n",
    "        print('U', U.get_shape())\n",
    "        \n",
    "        Q_det = tf.abs(tf.matrix_determinant(Q)) # To avoid get square root of -negative number.\n",
    "        print('Q_det', Q_det.get_shape())\n",
    "        \n",
    "        Z = tf.pow(tf.multiply(tf.pow(6.28,f), Q_det), 1/2)\n",
    "        print('Z', Z.get_shape())\n",
    "        \n",
    "        Y_ = tf.divide(tf.exp(-U/2), Z)\n",
    "        print(\"Y_\", Y_.get_shape())\n",
    "        \n",
    "        loss = self.get_cost(U, Q, Q_, Z) # 1- Y_[0]\n",
    "        train = tf.train.AdamOptimizer(0.001).minimize(loss)\n",
    "        \n",
    "        self.params.update({'U': U, 'M':M, 'R':R, 'Z':Z, 'Q_':Q_, 'Q_det':Q_det})\n",
    "        \n",
    "        return train, loss, Y_, self.params\n"
   ]
  },
  {
   "cell_type": "code",
   "execution_count": 98,
   "metadata": {},
   "outputs": [
    {
     "name": "stdout",
     "output_type": "stream",
     "text": [
      "M (1000, 2)\n",
      "R (1000, 2)\n",
      "V (1000, 1000)\n",
      "U (1000, 1)\n",
      "Q_det ()\n",
      "Z ()\n",
      "Y_ (1000, 1)\n",
      "epoch 0 loss 287.57507 Z 1.2533957 U_ -291.10376 LogZ 0.22585641 IR 3.3028483\n",
      "epoch 1 loss 284.95132 Z 1.2533876 U_ -288.47488 LogZ 0.22584994 IR 3.297701\n",
      "epoch 2 loss 282.34106 Z 1.2533786 U_ -285.85956 LogZ 0.2258428 IR 3.2925813\n",
      "epoch 3 loss 279.7446 Z 1.2533687 U_ -283.25793 LogZ 0.22583492 IR 3.2874908\n",
      "epoch 4 loss 277.162 Z 1.2533573 U_ -280.67017 LogZ 0.22582579 IR 3.28243\n",
      "epoch 5 loss 274.59323 Z 1.2533439 U_ -278.09644 LogZ 0.22581513 IR 3.2773993\n",
      "epoch 6 loss 272.03876 Z 1.2533281 U_ -275.53702 LogZ 0.22580248 IR 3.2723992\n",
      "epoch 7 loss 269.49872 Z 1.2533096 U_ -272.992 LogZ 0.22578774 IR 3.2674303\n",
      "epoch 8 loss 266.97327 Z 1.2532876 U_ -270.46155 LogZ 0.22577015 IR 3.2624934\n",
      "epoch 9 loss 264.46252 Z 1.253262 U_ -267.9458 LogZ 0.22574979 IR 3.2575889\n",
      "epoch 10 loss 261.96655 Z 1.2532322 U_ -265.44507 LogZ 0.22572601 IR 3.252717\n",
      "epoch 11 loss 259.48566 Z 1.2531977 U_ -262.95923 LogZ 0.22569843 IR 3.2478786\n",
      "epoch 12 loss 257.0199 Z 1.2531582 U_ -260.48865 LogZ 0.22566694 IR 3.2430735\n",
      "epoch 13 loss 254.56941 Z 1.253113 U_ -258.03336 LogZ 0.22563088 IR 3.2383037\n",
      "epoch 14 loss 252.13426 Z 1.2530619 U_ -255.59337 LogZ 0.22559007 IR 3.233568\n",
      "epoch 15 loss 249.7146 Z 1.2530048 U_ -253.16898 LogZ 0.2255445 IR 3.2288673\n",
      "epoch 16 loss 247.31044 Z 1.2529405 U_ -250.76013 LogZ 0.22549322 IR 3.2242022\n",
      "epoch 17 loss 244.92197 Z 1.2528691 U_ -248.36694 LogZ 0.22543623 IR 3.2195725\n",
      "epoch 18 loss 242.54912 Z 1.2527899 U_ -245.98952 LogZ 0.22537296 IR 3.2149796\n",
      "epoch 19 loss 240.19218 Z 1.2527028 U_ -243.62791 LogZ 0.22530349 IR 3.2104228\n",
      "epoch 20 loss 237.85106 Z 1.2526073 U_ -241.28224 LogZ 0.22522725 IR 3.2059028\n",
      "epoch 21 loss 235.52583 Z 1.2525028 U_ -238.95238 LogZ 0.22514379 IR 3.2014198\n",
      "epoch 22 loss 233.21646 Z 1.2523892 U_ -236.6385 LogZ 0.22505309 IR 3.1969745\n",
      "epoch 23 loss 230.92314 Z 1.252266 U_ -234.34065 LogZ 0.22495475 IR 3.1925662\n",
      "epoch 24 loss 228.64581 Z 1.2521329 U_ -232.05878 LogZ 0.2248484 IR 3.1881957\n",
      "epoch 25 loss 226.3844 Z 1.2519892 U_ -229.793 LogZ 0.22473368 IR 3.1838632\n",
      "epoch 26 loss 224.13907 Z 1.2518351 U_ -227.54323 LogZ 0.22461057 IR 3.1795688\n",
      "epoch 27 loss 221.90965 Z 1.2516699 U_ -225.3095 LogZ 0.22447857 IR 3.1753128\n",
      "epoch 28 loss 219.69627 Z 1.2514933 U_ -223.09172 LogZ 0.2243375 IR 3.1710944\n",
      "epoch 29 loss 217.49889 Z 1.2513047 U_ -220.89 LogZ 0.22418681 IR 3.1669145\n",
      "epoch 30 loss 215.3175 Z 1.2511044 U_ -218.70428 LogZ 0.22402665 IR 3.1627734\n",
      "epoch 31 loss 213.15187 Z 1.2508916 U_ -216.5344 LogZ 0.22385655 IR 3.158671\n",
      "epoch 32 loss 211.0022 Z 1.250666 U_ -214.38055 LogZ 0.22367623 IR 3.1546059\n",
      "epoch 33 loss 208.86838 Z 1.2504276 U_ -212.24243 LogZ 0.22348557 IR 3.1505804\n",
      "epoch 34 loss 206.75027 Z 1.2501757 U_ -210.12025 LogZ 0.22328411 IR 3.1465936\n",
      "epoch 35 loss 204.64803 Z 1.2499105 U_ -208.01378 LogZ 0.22307193 IR 3.142645\n",
      "epoch 36 loss 202.56137 Z 1.2496313 U_ -205.92296 LogZ 0.22284853 IR 3.1387348\n",
      "epoch 37 loss 200.49031 Z 1.2493378 U_ -203.84784 LogZ 0.22261365 IR 3.1348634\n",
      "epoch 38 loss 198.43484 Z 1.2490299 U_ -201.78825 LogZ 0.22236715 IR 3.1310306\n",
      "epoch 39 loss 196.39484 Z 1.2487073 U_ -199.74417 LogZ 0.22210886 IR 3.127236\n",
      "epoch 40 loss 194.37016 Z 1.2483698 U_ -197.71548 LogZ 0.22183855 IR 3.1234794\n",
      "epoch 41 loss 192.36081 Z 1.248017 U_ -195.7021 LogZ 0.22155586 IR 3.1197615\n",
      "epoch 42 loss 190.36668 Z 1.2476486 U_ -193.704 LogZ 0.22126065 IR 3.1160817\n",
      "epoch 43 loss 188.38773 Z 1.2472644 U_ -191.72107 LogZ 0.22095266 IR 3.11244\n",
      "epoch 44 loss 186.42372 Z 1.2468643 U_ -189.75317 LogZ 0.22063185 IR 3.1088362\n",
      "epoch 45 loss 184.4747 Z 1.2464477 U_ -187.80025 LogZ 0.22029765 IR 3.1052704\n",
      "epoch 46 loss 182.54053 Z 1.2460147 U_ -185.86221 LogZ 0.21995023 IR 3.1017423\n",
      "epoch 47 loss 180.6211 Z 1.2455648 U_ -183.9389 LogZ 0.2195891 IR 3.0982518\n",
      "epoch 48 loss 178.71631 Z 1.2450981 U_ -182.03032 LogZ 0.21921434 IR 3.0947986\n",
      "epoch 49 loss 176.82607 Z 1.244614 U_ -180.13628 LogZ 0.21882544 IR 3.0913832\n",
      "epoch 50 loss 174.95029 Z 1.2441123 U_ -178.25668 LogZ 0.21842223 IR 3.0880046\n",
      "epoch 51 loss 173.08875 Z 1.2435927 U_ -176.3914 LogZ 0.21800455 IR 3.0846634\n",
      "epoch 52 loss 171.2416 Z 1.2430553 U_ -174.54047 LogZ 0.21757233 IR 3.081359\n",
      "epoch 53 loss 169.40837 Z 1.2424996 U_ -172.70357 LogZ 0.21712515 IR 3.0780911\n",
      "epoch 54 loss 167.58922 Z 1.2419254 U_ -170.88074 LogZ 0.21666288 IR 3.0748606\n",
      "epoch 55 loss 165.78397 Z 1.2413323 U_ -169.07181 LogZ 0.21618523 IR 3.0716658\n",
      "epoch 56 loss 163.99248 Z 1.2407204 U_ -167.27675 LogZ 0.21569216 IR 3.0685077\n",
      "epoch 57 loss 162.21466 Z 1.2400889 U_ -165.4952 LogZ 0.21518311 IR 3.0653858\n",
      "epoch 58 loss 160.45038 Z 1.2394384 U_ -163.72733 LogZ 0.21465838 IR 3.0622997\n",
      "epoch 59 loss 158.69946 Z 1.2387677 U_ -161.97282 LogZ 0.21411712 IR 3.0592496\n",
      "epoch 60 loss 156.9619 Z 1.2380775 U_ -160.23167 LogZ 0.21355979 IR 3.0562348\n",
      "epoch 61 loss 155.23755 Z 1.2373669 U_ -158.50381 LogZ 0.21298566 IR 3.0532565\n",
      "epoch 62 loss 153.52629 Z 1.2366354 U_ -156.78899 LogZ 0.21239434 IR 3.0503125\n",
      "epoch 63 loss 151.82794 Z 1.2358837 U_ -155.08713 LogZ 0.21178627 IR 3.047404\n",
      "epoch 64 loss 150.14244 Z 1.2351109 U_ -153.39813 LogZ 0.21116075 IR 3.0445306\n",
      "epoch 65 loss 148.46968 Z 1.2343167 U_ -151.72188 LogZ 0.21051754 IR 3.041692\n",
      "epoch 66 loss 146.8095 Z 1.233501 U_ -150.05818 LogZ 0.20985644 IR 3.0388887\n",
      "epoch 67 loss 145.1618 Z 1.2326636 U_ -148.4071 LogZ 0.20917737 IR 3.036119\n",
      "epoch 68 loss 143.52644 Z 1.2318043 U_ -146.76831 LogZ 0.20847997 IR 3.0333843\n",
      "epoch 69 loss 141.90338 Z 1.2309223 U_ -145.14185 LogZ 0.20776376 IR 3.030684\n",
      "epoch 70 loss 140.29239 Z 1.230018 U_ -143.52742 LogZ 0.20702882 IR 3.0280175\n",
      "epoch 71 loss 138.69344 Z 1.229091 U_ -141.92514 LogZ 0.20627491 IR 3.0253851\n",
      "epoch 72 loss 137.1064 Z 1.2281407 U_ -140.33466 LogZ 0.2055014 IR 3.0227864\n",
      "epoch 73 loss 135.53107 Z 1.227167 U_ -138.756 LogZ 0.20470828 IR 3.0202212\n",
      "epoch 74 loss 133.96742 Z 1.2261697 U_ -137.18903 LogZ 0.20389524 IR 3.0176897\n",
      "epoch 75 loss 132.4153 Z 1.2251483 U_ -135.63356 LogZ 0.20306191 IR 3.0151916\n",
      "epoch 76 loss 130.8746 Z 1.2241026 U_ -134.08955 LogZ 0.20220801 IR 3.0127263\n",
      "epoch 77 loss 129.34518 Z 1.2230325 U_ -132.55681 LogZ 0.2013334 IR 3.010294\n",
      "epoch 78 loss 127.82695 Z 1.2219374 U_ -131.03528 LogZ 0.20043765 IR 3.007895\n",
      "epoch 79 loss 126.319786 Z 1.2208172 U_ -129.52481 LogZ 0.19952048 IR 3.0055285\n",
      "epoch 80 loss 124.8235 Z 1.2196715 U_ -128.0253 LogZ 0.19858155 IR 3.0031946\n",
      "epoch 81 loss 123.33807 Z 1.2184998 U_ -126.53659 LogZ 0.1976204 IR 3.0008936\n",
      "epoch 82 loss 121.86338 Z 1.2173021 U_ -125.05863 LogZ 0.196637 IR 2.9986243\n",
      "epoch 83 loss 120.39925 Z 1.2160779 U_ -123.591255 LogZ 0.19563086 IR 2.9963877\n",
      "epoch 84 loss 118.945564 Z 1.2148273 U_ -122.13437 LogZ 0.19460192 IR 2.994183\n",
      "epoch 85 loss 117.50225 Z 1.2135491 U_ -120.68781 LogZ 0.19354925 IR 2.99201\n",
      "epoch 86 loss 116.06918 Z 1.2122436 U_ -119.251526 LogZ 0.19247282 IR 2.9898696\n",
      "epoch 87 loss 114.64622 Z 1.2109103 U_ -117.82536 LogZ 0.19137241 IR 2.9877603\n",
      "epoch 88 loss 113.23325 Z 1.209549 U_ -116.40918 LogZ 0.19024752 IR 2.9856827\n",
      "epoch 89 loss 111.8302 Z 1.2081589 U_ -115.00294 LogZ 0.18909758 IR 2.9836364\n",
      "epoch 90 loss 110.436905 Z 1.20674 U_ -113.60647 LogZ 0.18792252 IR 2.9816217\n",
      "epoch 91 loss 109.05325 Z 1.205292 U_ -112.21963 LogZ 0.18672185 IR 2.9796386\n",
      "epoch 92 loss 107.67919 Z 1.2038145 U_ -110.842354 LogZ 0.18549527 IR 2.977686\n",
      "epoch 93 loss 106.31447 Z 1.2023066 U_ -109.47447 LogZ 0.1842419 IR 2.9757645\n",
      "epoch 94 loss 104.95911 Z 1.2007685 U_ -108.11592 LogZ 0.18296175 IR 2.9738746\n",
      "epoch 95 loss 103.61294 Z 1.1991997 U_ -106.766594 LogZ 0.1816544 IR 2.972015\n",
      "epoch 96 loss 102.27582 Z 1.1975995 U_ -105.42633 LogZ 0.18031916 IR 2.9701858\n",
      "epoch 97 loss 100.94767 Z 1.1959678 U_ -104.095024 LogZ 0.17895572 IR 2.9683871\n",
      "epoch 98 loss 99.62837 Z 1.1943041 U_ -102.77254 LogZ 0.17756368 IR 2.9666195\n",
      "epoch 99 loss 98.31779 Z 1.1926079 U_ -101.45883 LogZ 0.17614241 IR 2.9648824\n"
     ]
    }
   ],
   "source": [
    "epochs = 1000\n",
    "net = network()\n",
    "loss_arr = []\n",
    "output_tensors = net.get_optimizer()\n",
    "with tf.Session() as sess:\n",
    "    sess.run(tf.global_variables_initializer())\n",
    "    for epoch in range(epochs):\n",
    "        X = np.reshape(Dataset.train_positive.values[0:hp.n], (hp.n, -1))\n",
    "        train, loss, Dataset.Y_, params = sess.run(output_tensors, feed_dict={net.X:X})\n",
    "        print(\"epoch\", epoch, \"loss\", loss, 'Z', params['Z'], 'U_', params['U_'], 'LogZ',params['logZ'], 'IR', params['ir'])\n",
    "        loss_arr.append(loss)\n",
    "        if(np.abs(loss) < 1):\n",
    "            break\n",
    "        #print(params)"
   ]
  },
  {
   "cell_type": "code",
   "execution_count": 99,
   "metadata": {},
   "outputs": [
    {
     "data": {
      "text/html": [
       "<div>\n",
       "<style scoped>\n",
       "    .dataframe tbody tr th:only-of-type {\n",
       "        vertical-align: middle;\n",
       "    }\n",
       "\n",
       "    .dataframe tbody tr th {\n",
       "        vertical-align: top;\n",
       "    }\n",
       "\n",
       "    .dataframe thead th {\n",
       "        text-align: right;\n",
       "    }\n",
       "</style>\n",
       "<table border=\"1\" class=\"dataframe\">\n",
       "  <thead>\n",
       "    <tr style=\"text-align: right;\">\n",
       "      <th></th>\n",
       "      <th>0</th>\n",
       "    </tr>\n",
       "  </thead>\n",
       "  <tbody>\n",
       "    <tr>\n",
       "      <th>0</th>\n",
       "      <td>inf</td>\n",
       "    </tr>\n",
       "    <tr>\n",
       "      <th>1</th>\n",
       "      <td>1.940691e+28</td>\n",
       "    </tr>\n",
       "    <tr>\n",
       "      <th>2</th>\n",
       "      <td>2.153140e+30</td>\n",
       "    </tr>\n",
       "    <tr>\n",
       "      <th>3</th>\n",
       "      <td>2.514177e+31</td>\n",
       "    </tr>\n",
       "    <tr>\n",
       "      <th>4</th>\n",
       "      <td>0.000000e+00</td>\n",
       "    </tr>\n",
       "    <tr>\n",
       "      <th>5</th>\n",
       "      <td>inf</td>\n",
       "    </tr>\n",
       "    <tr>\n",
       "      <th>6</th>\n",
       "      <td>0.000000e+00</td>\n",
       "    </tr>\n",
       "    <tr>\n",
       "      <th>...</th>\n",
       "      <td>...</td>\n",
       "    </tr>\n",
       "    <tr>\n",
       "      <th>993</th>\n",
       "      <td>inf</td>\n",
       "    </tr>\n",
       "    <tr>\n",
       "      <th>994</th>\n",
       "      <td>inf</td>\n",
       "    </tr>\n",
       "    <tr>\n",
       "      <th>995</th>\n",
       "      <td>4.975993e+26</td>\n",
       "    </tr>\n",
       "    <tr>\n",
       "      <th>996</th>\n",
       "      <td>inf</td>\n",
       "    </tr>\n",
       "    <tr>\n",
       "      <th>997</th>\n",
       "      <td>inf</td>\n",
       "    </tr>\n",
       "    <tr>\n",
       "      <th>998</th>\n",
       "      <td>8.693510e+24</td>\n",
       "    </tr>\n",
       "    <tr>\n",
       "      <th>999</th>\n",
       "      <td>inf</td>\n",
       "    </tr>\n",
       "  </tbody>\n",
       "</table>\n",
       "<p>1000 rows × 1 columns</p>\n",
       "</div>"
      ],
      "text/plain": [
       "                0\n",
       "0             inf\n",
       "1    1.940691e+28\n",
       "2    2.153140e+30\n",
       "3    2.514177e+31\n",
       "4    0.000000e+00\n",
       "5             inf\n",
       "6    0.000000e+00\n",
       "..            ...\n",
       "993           inf\n",
       "994           inf\n",
       "995  4.975993e+26\n",
       "996           inf\n",
       "997           inf\n",
       "998  8.693510e+24\n",
       "999           inf\n",
       "\n",
       "[1000 rows x 1 columns]"
      ]
     },
     "execution_count": 99,
     "metadata": {},
     "output_type": "execute_result"
    }
   ],
   "source": [
    "pd.DataFrame(Dataset.Y_)"
   ]
  },
  {
   "cell_type": "code",
   "execution_count": 101,
   "metadata": {},
   "outputs": [
    {
     "data": {
      "text/html": [
       "<div>\n",
       "<style scoped>\n",
       "    .dataframe tbody tr th:only-of-type {\n",
       "        vertical-align: middle;\n",
       "    }\n",
       "\n",
       "    .dataframe tbody tr th {\n",
       "        vertical-align: top;\n",
       "    }\n",
       "\n",
       "    .dataframe thead th {\n",
       "        text-align: right;\n",
       "    }\n",
       "</style>\n",
       "<table border=\"1\" class=\"dataframe\">\n",
       "  <thead>\n",
       "    <tr style=\"text-align: right;\">\n",
       "      <th></th>\n",
       "      <th>0</th>\n",
       "    </tr>\n",
       "  </thead>\n",
       "  <tbody>\n",
       "    <tr>\n",
       "      <th>0</th>\n",
       "      <td>-314.558289</td>\n",
       "    </tr>\n",
       "    <tr>\n",
       "      <th>1</th>\n",
       "      <td>-130.623138</td>\n",
       "    </tr>\n",
       "    <tr>\n",
       "      <th>2</th>\n",
       "      <td>-140.041245</td>\n",
       "    </tr>\n",
       "    <tr>\n",
       "      <th>3</th>\n",
       "      <td>-144.956451</td>\n",
       "    </tr>\n",
       "    <tr>\n",
       "      <th>4</th>\n",
       "      <td>377.589722</td>\n",
       "    </tr>\n",
       "    <tr>\n",
       "      <th>5</th>\n",
       "      <td>-340.360779</td>\n",
       "    </tr>\n",
       "    <tr>\n",
       "      <th>6</th>\n",
       "      <td>532.609497</td>\n",
       "    </tr>\n",
       "    <tr>\n",
       "      <th>...</th>\n",
       "      <td>...</td>\n",
       "    </tr>\n",
       "    <tr>\n",
       "      <th>993</th>\n",
       "      <td>-202.452362</td>\n",
       "    </tr>\n",
       "    <tr>\n",
       "      <th>994</th>\n",
       "      <td>-413.440247</td>\n",
       "    </tr>\n",
       "    <tr>\n",
       "      <th>995</th>\n",
       "      <td>-123.295959</td>\n",
       "    </tr>\n",
       "    <tr>\n",
       "      <th>996</th>\n",
       "      <td>-249.290833</td>\n",
       "    </tr>\n",
       "    <tr>\n",
       "      <th>997</th>\n",
       "      <td>-275.433655</td>\n",
       "    </tr>\n",
       "    <tr>\n",
       "      <th>998</th>\n",
       "      <td>-115.201523</td>\n",
       "    </tr>\n",
       "    <tr>\n",
       "      <th>999</th>\n",
       "      <td>-256.658569</td>\n",
       "    </tr>\n",
       "  </tbody>\n",
       "</table>\n",
       "<p>1000 rows × 1 columns</p>\n",
       "</div>"
      ],
      "text/plain": [
       "              0\n",
       "0   -314.558289\n",
       "1   -130.623138\n",
       "2   -140.041245\n",
       "3   -144.956451\n",
       "4    377.589722\n",
       "5   -340.360779\n",
       "6    532.609497\n",
       "..          ...\n",
       "993 -202.452362\n",
       "994 -413.440247\n",
       "995 -123.295959\n",
       "996 -249.290833\n",
       "997 -275.433655\n",
       "998 -115.201523\n",
       "999 -256.658569\n",
       "\n",
       "[1000 rows x 1 columns]"
      ]
     },
     "execution_count": 101,
     "metadata": {},
     "output_type": "execute_result"
    }
   ],
   "source": [
    "pd.DataFrame(params['U'])"
   ]
  }
 ],
 "metadata": {
  "kernelspec": {
   "display_name": "Python 3",
   "language": "python",
   "name": "python3"
  },
  "language_info": {
   "codemirror_mode": {
    "name": "ipython",
    "version": 3
   },
   "file_extension": ".py",
   "mimetype": "text/x-python",
   "name": "python",
   "nbconvert_exporter": "python",
   "pygments_lexer": "ipython3",
   "version": "3.6.5"
  }
 },
 "nbformat": 4,
 "nbformat_minor": 2
}
