{
 "cells": [
  {
   "cell_type": "code",
   "execution_count": 1,
   "metadata": {},
   "outputs": [
    {
     "name": "stderr",
     "output_type": "stream",
     "text": [
      "/home/kvpcloud/.conda/envs/p3_gpu/lib/python3.6/site-packages/h5py/__init__.py:36: FutureWarning: Conversion of the second argument of issubdtype from `float` to `np.floating` is deprecated. In future, it will be treated as `np.float64 == np.dtype(float).type`.\n",
      "  from ._conv import register_converters as _register_converters\n"
     ]
    }
   ],
   "source": [
    "import pandas as pd\n",
    "import numpy as np\n",
    "from matplotlib import pyplot as plt\n",
    "from IPython import display as ds\n",
    "import matplotlib.image as mpimg\n",
    "import cv2\n",
    "import tensorflow as tf\n",
    "import math\n",
    "\n",
    "\n",
    "%matplotlib inline"
   ]
  },
  {
   "cell_type": "code",
   "execution_count": 2,
   "metadata": {},
   "outputs": [],
   "source": [
    "class Dataset:\n",
    "    main = 'dataset/UCSD_Anomaly_Dataset.v1p2'\n",
    "    train_images = np.load('{}/train.npy'.format(main))\n",
    "    train_images_ = np.load('{}/train_.npy'.format(main))\n",
    "    test_images = np.load('{}/test.npy'.format(main))\n",
    "    test_images_ = np.load('{}/test_.npy'.format(main))"
   ]
  },
  {
   "cell_type": "code",
   "execution_count": 3,
   "metadata": {},
   "outputs": [
    {
     "data": {
      "text/plain": [
       "(200, 158, 238, 3)"
      ]
     },
     "execution_count": 3,
     "metadata": {},
     "output_type": "execute_result"
    }
   ],
   "source": [
    "Dataset.train_images.shape"
   ]
  },
  {
   "cell_type": "code",
   "execution_count": 4,
   "metadata": {},
   "outputs": [
    {
     "data": {
      "text/plain": [
       "array([[[0.36078431, 0.36078431, 0.36078431],\n",
       "        [0.35686275, 0.35686275, 0.35686275],\n",
       "        [0.31764706, 0.31764706, 0.31764706],\n",
       "        ...,\n",
       "        [0.16470588, 0.16470588, 0.16470588],\n",
       "        [0.22352941, 0.22352941, 0.22352941],\n",
       "        [0.29019608, 0.29019608, 0.29019608]],\n",
       "\n",
       "       [[0.2745098 , 0.2745098 , 0.2745098 ],\n",
       "        [0.2627451 , 0.2627451 , 0.2627451 ],\n",
       "        [0.27843137, 0.27843137, 0.27843137],\n",
       "        ...,\n",
       "        [0.18823529, 0.18823529, 0.18823529],\n",
       "        [0.19215686, 0.19215686, 0.19215686],\n",
       "        [0.33333333, 0.33333333, 0.33333333]],\n",
       "\n",
       "       [[0.30588235, 0.30588235, 0.30588235],\n",
       "        [0.32941176, 0.32941176, 0.32941176],\n",
       "        [0.3372549 , 0.3372549 , 0.3372549 ],\n",
       "        ...,\n",
       "        [0.24705882, 0.24705882, 0.24705882],\n",
       "        [0.16862745, 0.16862745, 0.16862745],\n",
       "        [0.28235294, 0.28235294, 0.28235294]],\n",
       "\n",
       "       ...,\n",
       "\n",
       "       [[0.41960784, 0.41960784, 0.41960784],\n",
       "        [0.41960784, 0.41960784, 0.41960784],\n",
       "        [0.43137255, 0.43137255, 0.43137255],\n",
       "        ...,\n",
       "        [0.63921569, 0.63921569, 0.63921569],\n",
       "        [0.62352941, 0.62352941, 0.62352941],\n",
       "        [0.70588235, 0.70588235, 0.70588235]],\n",
       "\n",
       "       [[0.44313725, 0.44313725, 0.44313725],\n",
       "        [0.44313725, 0.44313725, 0.44313725],\n",
       "        [0.44705882, 0.44705882, 0.44705882],\n",
       "        ...,\n",
       "        [0.62745098, 0.62745098, 0.62745098],\n",
       "        [0.63137255, 0.63137255, 0.63137255],\n",
       "        [0.69411765, 0.69411765, 0.69411765]],\n",
       "\n",
       "       [[0.45490196, 0.45490196, 0.45490196],\n",
       "        [0.45490196, 0.45490196, 0.45490196],\n",
       "        [0.45882353, 0.45882353, 0.45882353],\n",
       "        ...,\n",
       "        [0.64313725, 0.64313725, 0.64313725],\n",
       "        [0.63137255, 0.63137255, 0.63137255],\n",
       "        [0.72156863, 0.72156863, 0.72156863]]])"
      ]
     },
     "execution_count": 4,
     "metadata": {},
     "output_type": "execute_result"
    }
   ],
   "source": [
    "Dataset.train_images[0]"
   ]
  },
  {
   "cell_type": "code",
   "execution_count": 5,
   "metadata": {},
   "outputs": [],
   "source": [
    "class Params:\n",
    "    latent_feature_count = [10,10,3]\n",
    "    reduced_feature_rbf_count = 5\n",
    "    epochs = 10\n",
    "    "
   ]
  },
  {
   "cell_type": "code",
   "execution_count": null,
   "metadata": {},
   "outputs": [],
   "source": []
  },
  {
   "cell_type": "code",
   "execution_count": 12,
   "metadata": {},
   "outputs": [],
   "source": [
    "class Network:\n",
    "    \n",
    "    def __init__(self):\n",
    "        self.graph = tf.Graph()\n",
    "        with self.graph.as_default():\n",
    "            tf.logging.set_verbosity(tf.logging.INFO)\n",
    "            with tf.name_scope('Input'):\n",
    "                self.x = tf.placeholder(tf.float32, shape=(20, 158, 238, 3), name='X')\n",
    "                self.x_ = tf.placeholder(tf.float32, shape=(20, 158, 238, 3), name='X_')\n",
    "             \n",
    "    def encoder(self, x):\n",
    "        with self.graph.as_default():\n",
    "            with tf.name_scope('Encoder'):\n",
    "                x = tf.layers.conv2d(x, filters=32, kernel_size=(5,5), strides=(1,1), activation=tf.nn.relu)\n",
    "                print('After 1st Conv', x.get_shape())\n",
    "                tf.summary.image('encoder_hidden_1', x[:,:,:,0:3],max_outputs=1)\n",
    "                x = tf.print(x,[x], \"Encoder 1\")\n",
    "\n",
    "                x = tf.layers.max_pooling2d(x, pool_size=(5,5), strides=(1,1), )\n",
    "                print('After 1st Pooling', x.get_shape())\n",
    "                x = tf.print(x,[x], \"Encoder 2\")\n",
    "\n",
    "                x = tf.layers.conv2d(x, filters=16, kernel_size=(5,5), strides=(1,1), activation=tf.nn.relu)\n",
    "                print('After 2nd Conv', x.get_shape())\n",
    "                tf.summary.image('encoder_hidden_2', x[:,:,:,0:3],max_outputs=1)\n",
    "                x = tf.print(x,[x], \"Encoder 3\")\n",
    "\n",
    "                x = tf.layers.max_pooling2d(x, pool_size=(5,5), strides=(1,1))\n",
    "                print('After 2nd Pooling', x.get_shape())\n",
    "                x = tf.print(x,[x], \"Encoder 4\")\n",
    "\n",
    "                x = tf.layers.conv2d(x, filters=8, kernel_size=(5,5), strides=(1,1), activation=tf.nn.relu)\n",
    "                print('After 3rd Conv', x.get_shape())\n",
    "                tf.summary.image('encoder_hidden_3', x[:,:,:,0:3],max_outputs=1)\n",
    "                x = tf.print(x,[x], \"Encoder 5\")\n",
    "\n",
    "                encoded = tf.layers.max_pooling2d(x, pool_size=(5,5), strides=(1,1))\n",
    "                print('After 3rd Pooling (Final Encoded)', x.get_shape())\n",
    "                tf.summary.image('encoder_hidden_final', encoded[:,:,:,0:3], max_outputs=1)\n",
    "                encoded = tf.print(encoded,[encoded], \"Encoder 6\")\n",
    "\n",
    "                with tf.name_scope('Latent'):\n",
    "\n",
    "                    latent = tf.layers.dense(tf.contrib.layers.flatten(encoded), #depricated\n",
    "                                              units=np.prod(Params.latent_feature_count), \n",
    "                                              activation=tf.nn.relu)\n",
    "\n",
    "                    print('Latent', latent.get_shape())\n",
    "                    tf.summary.histogram('Latent', latent)\n",
    "                    latent = tf.print(latent, [latent], \"*********** Latent (Input to LSTM)\")\n",
    "\n",
    "\n",
    "        return encoded, latent\n",
    "\n",
    "    def decoder(self, encoded):\n",
    "        with self.graph.as_default():\n",
    "            with tf.name_scope('Decoder'):\n",
    "                #x = tf.reshape(encoded, [-1] + Params.latent_feature_count)\n",
    "                x = encoded\n",
    "                x = tf.print(x,[x], \"Before Decoder\")\n",
    "                x = tf.layers.conv2d_transpose(x, filters=8, kernel_size=(5,5), strides=(1,1), activation=tf.nn.relu)\n",
    "                print('After 1st conv transpose', x.get_shape())\n",
    "                tf.summary.image('decoder_hidden_1', x[:,:,:,0:3],max_outputs=1)\n",
    "                x = tf.print(x,[x], \"Decoder 1\")\n",
    "\n",
    "                x = tf.layers.conv2d_transpose(x, filters=16, kernel_size=(5,5), strides=(1,1), activation=tf.nn.relu)\n",
    "                print('After 2nd conv transpose', x.get_shape())\n",
    "                tf.summary.image('decoder_hidden_2', x[:,:,:,0:3],max_outputs=1)\n",
    "                x = tf.print(x,[x], \"Decoder 2\")\n",
    "\n",
    "                x = tf.layers.conv2d_transpose(x, filters=32, kernel_size=(5,5), strides=(1,1), activation=tf.nn.relu)\n",
    "                print('After 3rd conv transpose', x.get_shape())\n",
    "                tf.summary.image('decoder_hidden_3', x[:,:,:,0:3],max_outputs=1)\n",
    "                x = tf.print(x,[x], \"Decoder 3\")\n",
    "\n",
    "                x = tf.layers.conv2d_transpose(x, filters=32, kernel_size=(5,5), strides=(1,1), activation=tf.nn.relu)\n",
    "                print('After 4th conv transpose', x.get_shape())\n",
    "                tf.summary.image('decoder_hidden_4', x[:,:,:,0:3],max_outputs=1)\n",
    "                x = tf.print(x,[x], \"Decoder 4\")\n",
    "\n",
    "                x = tf.layers.conv2d_transpose(x, filters=3, kernel_size=(5,5), strides=(1,1), activation=tf.nn.relu)\n",
    "                print('After 5th conv transpose', x.get_shape())\n",
    "                tf.summary.image('decoder_hidden_5', x[:,:,:,0:3],max_outputs=1)\n",
    "                x = tf.print(x,[x], \"Decoder 5\")\n",
    "\n",
    "                decoded = tf.layers.conv2d_transpose(x, filters=3, kernel_size=(5,5), strides=(1,1), activation=tf.nn.sigmoid)\n",
    "                print('After 6th conv transpose (final decoded)', decoded.get_shape())\n",
    "                tf.summary.image('decoder_hidden_decoded', decoded[:,:,:,0:3],max_outputs=1)\n",
    "\n",
    "            with tf.name_scope('Loss'):\n",
    "                self.x_ = tf.print(self.x_, [self.x_], \"(loss)Self.x_ ***** \")\n",
    "                decoded = tf.print(decoded, [decoded], \"(loss)decoded ***** \")\n",
    "                loss = tf.losses.mean_squared_error(labels=self.x_, predictions=decoded)\n",
    "                tf.summary.scalar(\"loss\",loss)\n",
    "\n",
    "        return decoded, loss\n",
    "\n",
    "    def lstm(self, latent):\n",
    "        with self.graph.as_default():\n",
    "\n",
    "            with tf.name_scope('LSTM') as lstm_scope:\n",
    "                #x = tf.layers.dense(latent, units=np.prod(Params.latent_feature_count), activation=tf.nn.relu)\n",
    "\n",
    "                x = latent\n",
    "\n",
    "                lstm = tf.contrib.rnn.BasicLSTMCell(64)\n",
    "\n",
    "                # Grouping 10 images into 1 to form a video clip for which Anomaly detection will be done\n",
    "                x_list = tf.split(x, 10, axis=0) \n",
    "\n",
    "                y_list, self.state = tf.nn.static_rnn(lstm, x_list, dtype = tf.float32)\n",
    "\n",
    "                lstm_out = tf.stack(y_list[-1]) # we only need the last output\n",
    "                lstm_out = tf.layers.dense(lstm_out, Params.reduced_feature_rbf_count)\n",
    "                print('Reduced dimensions for RBF', lstm_out.get_shape())\n",
    "                lstm_out = tf.print(lstm_out, [lstm_out], \"********* Output of LSTM, Input to RBF \")\n",
    "\n",
    "        return lstm_out\n",
    "\n",
    "    def rbf(self, lstm_output):\n",
    "        with self.graph.as_default():\n",
    "            def get_cost(U, Z, Q): \n",
    "\n",
    "                cost = - (-U - tf.log(Z)) \n",
    "                return tf.reduce_mean(cost)\n",
    "\n",
    "            f = Params.reduced_feature_rbf_count #np.prod(Params.latent_feature_count)\n",
    "\n",
    "\n",
    "            with tf.name_scope('RBF'):\n",
    "                X = lstm_output\n",
    "\n",
    "                mu = tf.Variable(tf.random_uniform([1,f], minval=0.1, dtype=tf.float32))\n",
    "                #Q_ = tf.Variable(tf.truncated_normal([f], mean = 1)) \n",
    "                global_step = tf.Variable(0, trainable=False)\n",
    "\n",
    "                sd = tf.Variable(tf.random_uniform([f], minval=0.1, dtype=tf.float32))\n",
    "\n",
    "                sigma = sd #tf.square(sd)\n",
    "                sigma = tf.print(sigma, [sigma], \"************ Sigma \")\n",
    "                sigma_inverse = tf.reciprocal(sigma)\n",
    "                sigma_inverse = tf.print(sigma_inverse, [sigma_inverse], '************* sigma_inverse')\n",
    "\n",
    "                cov_inverse = tf.diag(sigma_inverse)\n",
    "\n",
    "                det_sigma = tf.reduce_prod(tf.pow(sigma, 0.5))\n",
    "                det_sigma = tf.print(det_sigma, [det_sigma], '****** Determinant')\n",
    "                z = tf.multiply(2*math.pi, det_sigma)\n",
    "                z = tf.print(z, [z], ' ******* z')\n",
    "\n",
    "                with tf.name_scope('Likelihood'):\n",
    "\n",
    "                    M = X - mu\n",
    "\n",
    "                    energy = tf.matmul(tf.matmul(M,cov_inverse), tf.transpose(M)) \n",
    "                    print(\"Energy after matmul\", energy.get_shape())\n",
    "                    energy = tf.print(energy, [energy], '*********** Energy after matmul')\n",
    "\n",
    "                    energy = tf.reduce_sum(energy, axis = 1, keepdims = True)\n",
    "                    energy = tf.print(energy, [energy], '*********** Energy after summation')\n",
    "                    print('Energy after summation', energy.get_shape())\n",
    "\n",
    "                    print('X', X.get_shape())\n",
    "                    print('cov_inverse', cov_inverse.get_shape())\n",
    "\n",
    "                    expnt = tf.exp(-tf.multiply(energy, 0.5))\n",
    "                    print('exponent', expnt.get_shape())\n",
    "                    expnt = tf.print(expnt, [expnt], \"********* Exponent\")\n",
    "\n",
    "                    Y_ = tf.divide(expnt, z)\n",
    "\n",
    "\n",
    "                    #Y_ = tf.layers.dense(Y_, 1)\n",
    "                    rbf_out = Y_# tf.layers.dense(Y_, 1)\n",
    "                    Y_ = tf.print(Y_, [Y_], 'XXXXXXXXXXXXXXXXXXXX Y_ XXXXXXXXXXXXXXXXXXXXXXXXXXXX')\n",
    "                    print('Y_', Y_.get_shape())\n",
    "\n",
    "                with tf.name_scope('Loss'):\n",
    "                    #cost = -1 * tf.log(Y_ + 0.0001) # Adding a small delta because log is not a continuous function. \n",
    "                    cost = tf.multiply(energy, 0.5)\n",
    "                    cost = tf.print(cost,[cost], \"******** Cost\")\n",
    "                    loss = tf.reduce_mean(cost) #get_cost(U, Z, Q) # 1- Y_[0]\n",
    "                    loss = tf.print(loss, [loss], \"**************** Loss\")\n",
    "                    tf.summary.scalar('loss', loss)\n",
    "\n",
    "        return rbf_out, loss\n",
    "\n",
    "        \n",
    "    def initialize_spatial(self):\n",
    "        # encoder, decoder, lstm, rbf = \n",
    "        \n",
    "        with self.graph.as_default():\n",
    "            with tf.name_scope('Spatial_Autoencoder'):\n",
    "                encoded, latent = self.encoder(self.x)\n",
    "                print(\"Encoder: \", encoded.get_shape())\n",
    "                \n",
    "                tf.summary.histogram(\"Encoded\", encoded)\n",
    "                encoded = tf.print(encoded, [encoded], 'Spatial Out (Encoded) **** ')\n",
    "                \n",
    "                self.decoded, spatial_loss = self.decoder(encoded)\n",
    "                print(\"Decoder: \", self.decoded.get_shape())\n",
    "                \n",
    "                tf.summary.histogram(\"Decoded\", self.decoded)\n",
    "                tf.summary.scalar(\"Spatial_Loss\", spatial_loss)\n",
    "                \n",
    "        return latent, spatial_loss\n",
    "                \n",
    "    def initialize_temporal(self, latent):\n",
    "        with self.graph.as_default():\n",
    "            with tf.name_scope('Temporal_Autoencoder'):\n",
    "                lstm_out = self.lstm(latent)\n",
    "                print(\"LSTM: Images will be grouped (e.g. 10 images to 1 clip) into video clips when fed to LSTM\",\n",
    "                      lstm_out.get_shape())\n",
    "                tf.summary.histogram(\"LSTM\", lstm_out)\n",
    "\n",
    "                likelihood, likelihood_loss = self.rbf(lstm_out)\n",
    "                print(\"Likelihood: \", likelihood.get_shape())\n",
    "                tf.summary.scalar(\"Temporal_Loss\", likelihood_loss)\n",
    "                \n",
    "        return likelihood, likelihood_loss\n",
    "\n",
    "    \n",
    "    def get_optimizer_loss(self):\n",
    "        \n",
    "        with self.graph.as_default():\n",
    "            \n",
    "            latent, spatial_loss = self.initialize_spatial()\n",
    "            #self.likelihood, likelihood_loss = self.initialize_temporal(latent)\n",
    "            \n",
    "            loss = spatial_loss #+ likelihood_loss\n",
    "            tf.summary.scalar(\"Total_Loss\", loss)\n",
    "            \n",
    "            with tf.name_scope('Optimization'):\n",
    "                \n",
    "                global_step = tf.Variable(0, trainable=False)\n",
    "                starter_learning_rate = 0.01\n",
    "                learning_rate = tf.train.exponential_decay(starter_learning_rate, global_step,\n",
    "                                                   int(Params.epochs / 50), 0.5, staircase=True)\n",
    "                \n",
    "                optim = tf.train.AdamOptimizer(learning_rate) \n",
    "                \n",
    "                #grads_and_vars = optim.compute_gradients(loss, tf.trainable_variables())\n",
    "                #train = optim.apply_gradients(grads_and_vars)\n",
    "                train = optim.minimize(loss, global_step=global_step)\n",
    "                \n",
    "                tf.summary.scalar(\"learning_rate\",learning_rate)\n",
    "\n",
    "            merged = tf.summary.merge_all()\n",
    "        return train, spatial_loss#, merged, grads_and_vars #, self.cn.deb_vars\n",
    "        \n",
    "        "
   ]
  },
  {
   "cell_type": "code",
   "execution_count": null,
   "metadata": {},
   "outputs": [],
   "source": []
  },
  {
   "cell_type": "code",
   "execution_count": 13,
   "metadata": {
    "scrolled": false
   },
   "outputs": [
    {
     "name": "stdout",
     "output_type": "stream",
     "text": [
      "After 1st Conv (20, 154, 234, 32)\n",
      "After 1st Pooling (20, 150, 230, 32)\n",
      "After 2nd Conv (20, 146, 226, 16)\n",
      "After 2nd Pooling (20, 142, 222, 16)\n",
      "After 3rd Conv (20, 138, 218, 8)\n",
      "After 3rd Pooling (Final Encoded) (20, 138, 218, 8)\n",
      "Latent (20, 300)\n",
      "Encoder:  (20, 134, 214, 8)\n",
      "After 1st conv transpose (20, 138, 218, 8)\n",
      "After 2nd conv transpose (20, 142, 222, 16)\n",
      "After 3rd conv transpose (20, 146, 226, 32)\n",
      "After 4th conv transpose (20, 150, 230, 32)\n",
      "After 5th conv transpose (20, 154, 234, 3)\n",
      "After 6th conv transpose (final decoded) (20, 158, 238, 3)\n",
      "Decoder:  (20, 158, 238, 3)\n",
      "epoch: 0 loss: 0.054371417\n",
      "epoch: 1 loss: nan\n",
      "epoch: 2 loss: nan\n",
      "epoch: 3 loss: nan\n",
      "epoch: 4 loss: nan\n",
      "epoch: 5 loss: nan\n",
      "epoch: 6 loss: nan\n",
      "epoch: 7 loss: nan\n",
      "epoch: 8 loss: nan\n",
      "epoch: 9 loss: nan\n"
     ]
    }
   ],
   "source": [
    "loss_arr=[]\n",
    "network = Network()\n",
    "with tf.Session(graph=network.graph) as sess:\n",
    "\n",
    "    \n",
    "    optim_loss = network.get_optimizer_loss()\n",
    "    \n",
    "    train_writer = tf.summary.FileWriter('logdir/cae_train', sess.graph)\n",
    "    \n",
    "    sess.run(tf.global_variables_initializer())\n",
    "    \n",
    "    for epoch in range(Params.epochs):\n",
    "        _, loss = sess.run(optim_loss, feed_dict={network.x:Dataset.train_images_[:20,...],\n",
    "                                                        network.x_: Dataset.train_images[:20,...]})\n",
    "        #merged, grads_and_vars\n",
    "        if epoch % 1 == 0:\n",
    "            print('epoch:', epoch, 'loss:', loss)\n",
    "            #train_writer.add_summary(merged, epoch)\n",
    "            loss_arr.append(loss)\n",
    "            \n",
    "            #f = open(\"grads.txt\",\"w\")\n",
    "            #f.write(str(grads_and_vars))\n",
    "            #f.close()\n",
    "    \n",
    "    #Dataset.likelihood, Dataset.reproduced_images = sess.run((network.likelihood, network.decoded),feed_dict={network.x:Dataset.test_images_,\n",
    "    #                                        network.x_: Dataset.test_images})\n",
    "    \n",
    "    "
   ]
  },
  {
   "cell_type": "code",
   "execution_count": 8,
   "metadata": {},
   "outputs": [
    {
     "data": {
      "text/plain": [
       "(20, 158, 238, 3)"
      ]
     },
     "execution_count": 8,
     "metadata": {},
     "output_type": "execute_result"
    }
   ],
   "source": [
    "Dataset.train_images_[:20,...].shape"
   ]
  },
  {
   "cell_type": "code",
   "execution_count": 9,
   "metadata": {},
   "outputs": [
    {
     "ename": "NameError",
     "evalue": "name 'grads_and_vars' is not defined",
     "output_type": "error",
     "traceback": [
      "\u001b[0;31m---------------------------------------------------------------------------\u001b[0m",
      "\u001b[0;31mNameError\u001b[0m                                 Traceback (most recent call last)",
      "\u001b[0;32m<ipython-input-9-18dd20129f20>\u001b[0m in \u001b[0;36m<module>\u001b[0;34m()\u001b[0m\n\u001b[0;32m----> 1\u001b[0;31m \u001b[0mlen\u001b[0m\u001b[0;34m(\u001b[0m\u001b[0mgrads_and_vars\u001b[0m\u001b[0;34m[\u001b[0m\u001b[0;36m2\u001b[0m\u001b[0;34m]\u001b[0m\u001b[0;34m[\u001b[0m\u001b[0;36m1\u001b[0m\u001b[0;34m]\u001b[0m\u001b[0;34m[\u001b[0m\u001b[0;36m1\u001b[0m\u001b[0;34m]\u001b[0m\u001b[0;34m[\u001b[0m\u001b[0;36m1\u001b[0m\u001b[0;34m]\u001b[0m\u001b[0;34m)\u001b[0m\u001b[0;34m\u001b[0m\u001b[0m\n\u001b[0m",
      "\u001b[0;31mNameError\u001b[0m: name 'grads_and_vars' is not defined"
     ]
    }
   ],
   "source": [
    "len(grads_and_vars[2][1][1][1])"
   ]
  },
  {
   "cell_type": "code",
   "execution_count": null,
   "metadata": {},
   "outputs": [],
   "source": [
    "plt.plot(loss_arr)"
   ]
  },
  {
   "cell_type": "code",
   "execution_count": null,
   "metadata": {},
   "outputs": [],
   "source": [
    "fig, axs = plt.subplots(2,5, figsize=(25,8))\n",
    "axs = axs.ravel()\n",
    "\n",
    "for i, imgs in enumerate(Dataset.reproduced_images[15:25]):\n",
    "    axs[i].imshow(imgs[:,:,:])"
   ]
  },
  {
   "cell_type": "code",
   "execution_count": null,
   "metadata": {},
   "outputs": [],
   "source": [
    "axs[0].imshow(Dataset.reproduced_images[0,:,:])"
   ]
  },
  {
   "cell_type": "code",
   "execution_count": null,
   "metadata": {},
   "outputs": [],
   "source": [
    "Dataset.reproduced_images.shape"
   ]
  },
  {
   "cell_type": "code",
   "execution_count": null,
   "metadata": {},
   "outputs": [],
   "source": [
    "Dataset.reproduced_images[0]"
   ]
  },
  {
   "cell_type": "code",
   "execution_count": null,
   "metadata": {},
   "outputs": [],
   "source": [
    "Dataset.test_images.shape"
   ]
  },
  {
   "cell_type": "code",
   "execution_count": null,
   "metadata": {},
   "outputs": [],
   "source": [
    "fig, axs = plt.subplots(2,5, figsize=(25,8))\n",
    "axs = axs.ravel()\n",
    "\n",
    "for i, imgs in enumerate(Dataset.test_images_[15:25]):\n",
    "    axs[i].imshow(imgs[:,:,:])"
   ]
  },
  {
   "cell_type": "code",
   "execution_count": null,
   "metadata": {},
   "outputs": [],
   "source": []
  },
  {
   "cell_type": "code",
   "execution_count": null,
   "metadata": {},
   "outputs": [],
   "source": []
  }
 ],
 "metadata": {
  "kernelspec": {
   "display_name": "Python 3",
   "language": "python",
   "name": "python3"
  },
  "language_info": {
   "codemirror_mode": {
    "name": "ipython",
    "version": 3
   },
   "file_extension": ".py",
   "mimetype": "text/x-python",
   "name": "python",
   "nbconvert_exporter": "python",
   "pygments_lexer": "ipython3",
   "version": "3.6.5"
  }
 },
 "nbformat": 4,
 "nbformat_minor": 2
}
