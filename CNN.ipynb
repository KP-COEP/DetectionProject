{
 "cells": [
  {
   "cell_type": "code",
   "execution_count": 1,
   "metadata": {},
   "outputs": [],
   "source": [
    "import pandas as pd\n",
    "import numpy as np\n",
    "from matplotlib import pyplot as plt\n",
    "from IPython import display as ds\n",
    "import matplotlib.image as mpimg\n",
    "import cv2\n",
    "import tensorflow as tf\n",
    "\n",
    "%matplotlib inline"
   ]
  },
  {
   "cell_type": "code",
   "execution_count": 2,
   "metadata": {},
   "outputs": [],
   "source": [
    "class Dataset:\n",
    "    main = 'dataset/UCSD_Anomaly_Dataset.v1p2'\n",
    "    train_images = np.load('{}/train.npy'.format(main))\n",
    "    test_images = np.load('{}/test.npy'.format(main))"
   ]
  },
  {
   "cell_type": "code",
   "execution_count": 3,
   "metadata": {},
   "outputs": [
    {
     "data": {
      "text/plain": [
       "(10, 158, 238, 3)"
      ]
     },
     "execution_count": 3,
     "metadata": {},
     "output_type": "execute_result"
    }
   ],
   "source": [
    "Dataset.train_images.shape"
   ]
  },
  {
   "cell_type": "code",
   "execution_count": 4,
   "metadata": {},
   "outputs": [],
   "source": [
    "class Params:\n",
    "    latent_feature_count = [10,10,3]\n",
    "    epochs = 10"
   ]
  },
  {
   "cell_type": "code",
   "execution_count": 5,
   "metadata": {},
   "outputs": [],
   "source": [
    "class Network:\n",
    "    \n",
    "    def __init__(self):\n",
    "        with tf.name_scope('Input'):\n",
    "            self.x = tf.placeholder(tf.float32, shape=(None, 158, 238, 3), name='X')\n",
    "            self.x_ = tf.placeholder(tf.float32, shape=(None, 158, 238, 3), name='X')\n",
    "        \n",
    "        self.encoder, self.decoder = self.build_network(self.x)\n",
    "            \n",
    "    def build_network(self, x):\n",
    "        def encoder(x):\n",
    "            with tf.name_scope('Encoder'):\n",
    "                x = tf.layers.conv2d(x, filters=32, kernel_size=(5,5), strides=(1,1), activation=tf.nn.relu)\n",
    "                print('After 1st Conv', x.get_shape())\n",
    "                x = tf.layers.max_pooling2d(x, pool_size=(5,5), strides=(1,1), )\n",
    "                print('After 1st Pooling', x.get_shape())\n",
    "\n",
    "                x = tf.layers.conv2d(x, filters=16, kernel_size=(5,5), strides=(1,1), activation=tf.nn.relu)\n",
    "                print('After 2nd Conv', x.get_shape())\n",
    "                x = tf.layers.max_pooling2d(x, pool_size=(5,5), strides=(1,1))\n",
    "                print('After 2nd Pooling', x.get_shape())\n",
    "\n",
    "                x = tf.layers.conv2d(x, filters=8, kernel_size=(5,5), strides=(1,1), activation=tf.nn.relu)\n",
    "                print('After 3rd Conv', x.get_shape())\n",
    "                encoded = tf.layers.max_pooling2d(x, pool_size=(5,5), strides=(1,1))\n",
    "                print('After 3rd Pooling (Final Encoded)', x.get_shape())\n",
    "                \n",
    "                latent = tf.layers.dense(tf.contrib.layers.flatten(encoded), \n",
    "                                          units=np.prod(Params.latent_feature_count), \n",
    "                                          activation=tf.nn.relu)\n",
    "                \n",
    "                print('Latent', latent.get_shape())\n",
    "\n",
    "                \n",
    "            return encoded\n",
    "\n",
    "        def decoder(encoded):\n",
    "            with tf.name_scope('Decoder'):\n",
    "                #x = tf.reshape(encoded, [-1] + Params.latent_feature_count)\n",
    "                x = encoded\n",
    "                x = tf.layers.conv2d_transpose(x, filters=8, kernel_size=(5,5), strides=(1,1), activation=tf.nn.relu)\n",
    "                print('After 1st conv transpose', x.get_shape())\n",
    "                x = tf.layers.conv2d_transpose(x, filters=16, kernel_size=(5,5), strides=(1,1), activation=tf.nn.relu)\n",
    "                print('After 2nd conv transpose', x.get_shape())\n",
    "                x = tf.layers.conv2d_transpose(x, filters=32, kernel_size=(5,5), strides=(1,1), activation=tf.nn.relu)\n",
    "                print('After 3rd conv transpose', x.get_shape())\n",
    "                x = tf.layers.conv2d_transpose(x, filters=32, kernel_size=(5,5), strides=(1,1), activation=tf.nn.relu)\n",
    "                print('After 4th conv transpose', x.get_shape())\n",
    "                x = tf.layers.conv2d_transpose(x, filters=3, kernel_size=(5,5), strides=(1,1), activation=tf.nn.relu)\n",
    "                print('After 5th conv transpose', x.get_shape())\n",
    "\n",
    "                decoded = tf.layers.conv2d_transpose(x, filters=3, kernel_size=(5,5), strides=(1,1), activation=tf.nn.relu)\n",
    "                print('After 6th conv transpose (final decoded)', decoded.get_shape())\n",
    "                \n",
    "            return decoded\n",
    "        \n",
    "        return encoder, decoder\n",
    "    \n",
    "    def get_latent(self):\n",
    "        with tf.name_scope('Latent'):\n",
    "            x = self.x\n",
    "            encoded = self.encoder(x)\n",
    "            \n",
    "        return encoded\n",
    "    \n",
    "    def get_decoded(self):\n",
    "        encoded = self.get_latent()\n",
    "        x_hat = self.decoder(encoded)\n",
    "        return x_hat\n",
    "    \n",
    "    def get_optimizer_loss(self):\n",
    "        \n",
    "        self.x_hat = self.get_decoded()\n",
    "        \n",
    "        with tf.name_scope('Optimization'):\n",
    "            global_step = tf.Variable(0, trainable=False)\n",
    "            loss = tf.losses.mean_squared_error(labels=self.x, predictions=self.x_hat)\n",
    "            tf.summary.scalar(\"loss\",loss)\n",
    "            \n",
    "            starter_learning_rate = 0.01\n",
    "            learning_rate = tf.train.exponential_decay(starter_learning_rate, global_step,\n",
    "                                               100, 0.6, staircase=True)\n",
    "            train = tf.train.AdamOptimizer(learning_rate).minimize(loss, global_step=global_step)\n",
    "            tf.summary.scalar(\"learning_rate\",learning_rate)\n",
    "            \n",
    "        merged = tf.summary.merge_all()\n",
    "        return train, merged, loss\n",
    "        \n",
    "        "
   ]
  },
  {
   "cell_type": "code",
   "execution_count": null,
   "metadata": {},
   "outputs": [],
   "source": []
  },
  {
   "cell_type": "code",
   "execution_count": 6,
   "metadata": {},
   "outputs": [
    {
     "name": "stdout",
     "output_type": "stream",
     "text": [
      "After 1st Conv (?, 154, 234, 32)\n",
      "After 1st Pooling (?, 150, 230, 32)\n",
      "After 2nd Conv (?, 146, 226, 16)\n",
      "After 2nd Pooling (?, 142, 222, 16)\n",
      "After 3rd Conv (?, 138, 218, 8)\n",
      "After 3rd Pooling (Final Encoded) (?, 138, 218, 8)\n",
      "WARNING:tensorflow:From /home/kvpcloud/miniconda3/envs/p3/lib/python3.6/site-packages/tensorflow/contrib/learn/python/learn/datasets/base.py:198: retry (from tensorflow.contrib.learn.python.learn.datasets.base) is deprecated and will be removed in a future version.\n",
      "Instructions for updating:\n",
      "Use the retry module or similar alternatives.\n",
      "Latent (?, 300)\n",
      "After 1st conv transpose (?, 138, 218, 8)\n",
      "After 2nd conv transpose (?, 142, 222, 16)\n",
      "After 3rd conv transpose (?, 146, 226, 32)\n",
      "After 4th conv transpose (?, 150, 230, 32)\n",
      "After 5th conv transpose (?, 154, 234, 3)\n",
      "After 6th conv transpose (final decoded) (?, 158, 238, 3)\n",
      "epoch: 0 loss: 11427.6455\n",
      "epoch: 2 loss: 59361.152\n",
      "epoch: 4 loss: 11504.806\n",
      "epoch: 6 loss: 11504.349\n",
      "epoch: 8 loss: 11504.276\n"
     ]
    }
   ],
   "source": [
    "loss_arr = []\n",
    "with tf.Session() as sess:\n",
    "\n",
    "    network = Network()\n",
    "    optim_loss = network.get_optimizer_loss()\n",
    "    \n",
    "    train_writer = tf.summary.FileWriter('logdir/cae_train', sess.graph)\n",
    "    \n",
    "    sess.run(tf.global_variables_initializer())\n",
    "    \n",
    "    for epoch in range(Params.epochs):\n",
    "        _, merged, loss = sess.run(optim_loss, feed_dict={network.x:Dataset.train_images,\n",
    "                                                                    network.x_: Dataset.train_images})\n",
    "        loss_arr.append(loss)\n",
    "        train_writer.add_summary(merged, epoch)\n",
    "        if epoch % 2 == 0:\n",
    "            print('epoch:', epoch, 'loss:', loss)"
   ]
  },
  {
   "cell_type": "code",
   "execution_count": 7,
   "metadata": {},
   "outputs": [
    {
     "data": {
      "text/plain": [
       "[<matplotlib.lines.Line2D at 0x7f0f907e3ac8>]"
      ]
     },
     "execution_count": 7,
     "metadata": {},
     "output_type": "execute_result"
    },
    {
     "data": {
      "image/png": "[encoded data removed]",
      "text/plain": [
       "<Figure size 432x288 with 1 Axes>"
      ]
     },
     "metadata": {},
     "output_type": "display_data"
    }
   ],
   "source": [
    "plt.plot(loss_arr)"
   ]
  }
 ],
 "metadata": {
  "kernelspec": {
   "display_name": "Python 3",
   "language": "python",
   "name": "python3"
  },
  "language_info": {
   "codemirror_mode": {
    "name": "ipython",
    "version": 3
   },
   "file_extension": ".py",
   "mimetype": "text/x-python",
   "name": "python",
   "nbconvert_exporter": "python",
   "pygments_lexer": "ipython3",
   "version": "3.6.5"
  }
 },
 "nbformat": 4,
 "nbformat_minor": 2
}
