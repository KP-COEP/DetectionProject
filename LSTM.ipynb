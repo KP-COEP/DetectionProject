{
 "cells": [
  {
   "cell_type": "code",
   "execution_count": 3,
   "metadata": {},
   "outputs": [],
   "source": [
    "import pandas as pd\n",
    "import numpy as np\n",
    "from matplotlib import pyplot as plt\n",
    "from IPython import display as ds\n",
    "import matplotlib.image as mpimg\n",
    "import cv2\n",
    "import tensorflow as tf\n",
    "\n",
    "%matplotlib inline"
   ]
  },
  {
   "cell_type": "code",
   "execution_count": 4,
   "metadata": {},
   "outputs": [],
   "source": [
    "class Dataset:\n",
    "    main = 'dataset/UCSD_Anomaly_Dataset.v1p2'\n",
    "    latent_train = np.load('{}/latent_train.npy'.format(main))\n",
    "    #test_images = np.load('{}/test.npy'.format(main))"
   ]
  },
  {
   "cell_type": "code",
   "execution_count": 5,
   "metadata": {},
   "outputs": [],
   "source": [
    "class Params:\n",
    "    latent_feature_count = [10,10,3]\n",
    "    epochs = 1\n",
    "    batch_size = 1"
   ]
  },
  {
   "cell_type": "code",
   "execution_count": 8,
   "metadata": {},
   "outputs": [],
   "source": [
    "class Network:\n",
    "    \n",
    "    def __init__(self):\n",
    "        self.latent = tf.placeholder(tf.float32, shape=[Params.batch_size] + [np.prod(Params.latent_feature_count)], name='x')\n",
    "        hidden_state = tf.zeros([Params.batch_size, np.prod(Params.latent_feature_count)])\n",
    "        current_state = tf.zeros([Params.batch_size, np.prod(Params.latent_feature_count)])\n",
    "        self.state = hidden_state, current_state\n",
    "        \n",
    "        \n",
    "    def build_network(self):\n",
    "        \n",
    "        with tf.name_scope('LSTM') as lstm_scope:\n",
    "            x = tf.layers.dense(self.latent, units=np.prod(Params.latent_feature_count), activation=tf.nn.relu)\n",
    "            print('Input Latent', x.get_shape())\n",
    "            \n",
    "            lstm = tf.contrib.rnn.BasicLSTMCell(np.prod(Params.latent_feature_count))\n",
    "            x_list = tf.unstack(x,axis=0)\n",
    "            \n",
    "            for _, x_hat in enumerate(x_list):\n",
    "                y, self.state = lstm(tf.reshape(x_hat,(1,-1)),self.state)\n",
    "                #lstm_scope.reuse_variables()\n",
    "                \n",
    "            print('Output Latent', y.get_shape())\n",
    "            "
   ]
  },
  {
   "cell_type": "code",
   "execution_count": 9,
   "metadata": {},
   "outputs": [
    {
     "name": "stdout",
     "output_type": "stream",
     "text": [
      "Input Latent (1, 300)\n",
      "Output Latent (1, 300)\n"
     ]
    }
   ],
   "source": [
    "with tf.Session() as sess:\n",
    "    network=Network()\n",
    "    network.build_network()"
   ]
  },
  {
   "cell_type": "code",
   "execution_count": null,
   "metadata": {},
   "outputs": [],
   "source": []
  }
 ],
 "metadata": {
  "kernelspec": {
   "display_name": "Python 3",
   "language": "python",
   "name": "python3"
  },
  "language_info": {
   "codemirror_mode": {
    "name": "ipython",
    "version": 3
   },
   "file_extension": ".py",
   "mimetype": "text/x-python",
   "name": "python",
   "nbconvert_exporter": "python",
   "pygments_lexer": "ipython3",
   "version": "3.6.5"
  }
 },
 "nbformat": 4,
 "nbformat_minor": 2
}
