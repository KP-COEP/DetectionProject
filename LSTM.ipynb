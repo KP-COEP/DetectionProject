{
 "cells": [
  {
   "cell_type": "code",
   "execution_count": 1,
   "metadata": {},
   "outputs": [
    {
     "name": "stderr",
     "output_type": "stream",
     "text": [
      "/home/kvpcloud/.conda/envs/p3_gpu/lib/python3.6/site-packages/h5py/__init__.py:36: FutureWarning: Conversion of the second argument of issubdtype from `float` to `np.floating` is deprecated. In future, it will be treated as `np.float64 == np.dtype(float).type`.\n",
      "  from ._conv import register_converters as _register_converters\n"
     ]
    }
   ],
   "source": [
    "import pandas as pd\n",
    "import numpy as np\n",
    "from matplotlib import pyplot as plt\n",
    "from IPython import display as ds\n",
    "import matplotlib.image as mpimg\n",
    "import cv2\n",
    "import tensorflow as tf\n",
    "\n",
    "%matplotlib inline"
   ]
  },
  {
   "cell_type": "code",
   "execution_count": 2,
   "metadata": {},
   "outputs": [],
   "source": [
    "class Dataset:\n",
    "    main = 'dataset/UCSD_Anomaly_Dataset.v1p2'\n",
    "    latent_train = np.load('{}/latent_train.npy'.format(main))\n",
    "    #test_images = np.load('{}/test.npy'.format(main))"
   ]
  },
  {
   "cell_type": "code",
   "execution_count": 3,
   "metadata": {},
   "outputs": [
    {
     "name": "stdout",
     "output_type": "stream",
     "text": [
      "[[0.09196392 0.0478623  0.13000081 ... 0.10197813 0.         0.03637807]\n",
      " [0.11980576 0.07599361 0.08409608 ... 0.11578386 0.         0.01681237]\n",
      " [0.04043263 0.06748637 0.09166412 ... 0.10462585 0.         0.04567996]\n",
      " ...\n",
      " [0.07251541 0.06275192 0.06756014 ... 0.07906516 0.         0.05174178]\n",
      " [0.05823517 0.05963557 0.09027178 ... 0.10724749 0.         0.0523259 ]\n",
      " [0.12807868 0.10718347 0.12245025 ... 0.07215846 0.         0.03251233]]\n"
     ]
    }
   ],
   "source": [
    "print(Dataset.latent_train)"
   ]
  },
  {
   "cell_type": "code",
   "execution_count": 4,
   "metadata": {},
   "outputs": [
    {
     "name": "stdout",
     "output_type": "stream",
     "text": [
      "(200, 300)\n"
     ]
    }
   ],
   "source": [
    "print(Dataset.latent_train.shape)"
   ]
  },
  {
   "cell_type": "code",
   "execution_count": 5,
   "metadata": {},
   "outputs": [],
   "source": [
    "class Params:\n",
    "    latent_feature_count = [10,10,3]\n",
    "    epochs = 1\n",
    "    input_batch_size = 200\n",
    "    output_size = 1"
   ]
  },
  {
   "cell_type": "code",
   "execution_count": 10,
   "metadata": {},
   "outputs": [],
   "source": [
    "class Network:\n",
    "    \n",
    "    def __init__(self):\n",
    "        self.latent = tf.placeholder(tf.float32, shape=[Params.input_batch_size] + [np.prod(Params.latent_feature_count)], name='x')\n",
    "        print('Input Latent', self.latent.get_shape())\n",
    "        hidden_state = tf.zeros([Params.output_size, np.prod(Params.latent_feature_count)])\n",
    "        current_state = tf.zeros([Params.output_size, np.prod(Params.latent_feature_count)])\n",
    "        self.state = hidden_state, current_state\n",
    "        \n",
    "        \n",
    "    def build_network(self):\n",
    "        \n",
    "        y_list = []\n",
    "        \n",
    "        with tf.name_scope('LSTM') as lstm_scope:\n",
    "            x = tf.layers.dense(self.latent, units=np.prod(Params.latent_feature_count), activation=tf.nn.relu)\n",
    "            \n",
    "            lstm = tf.contrib.rnn.BasicLSTMCell(512) #np.prod(Params.latent_feature_count))\n",
    "            x_list = tf.split(x, 10, axis=0)\n",
    "            #print(\"Mini Batch \", x_list.get_shape())\n",
    "            \n",
    "\n",
    "            y_list, self.state = tf.nn.static_rnn(lstm, x_list, dtype=tf.float32)\n",
    "            \n",
    "            self.y = y_list[-1]\n",
    "            self.y = tf.layers.dense(self.y, np.prod(Params.latent_feature_count))\n",
    "                \n",
    "            print('Output Latent', self.y.get_shape())\n",
    "        \n",
    "    def get_latent(self):\n",
    "        return self.y"
   ]
  },
  {
   "cell_type": "code",
   "execution_count": 11,
   "metadata": {},
   "outputs": [
    {
     "name": "stdout",
     "output_type": "stream",
     "text": [
      "Input Latent (200, 300)\n",
      "Output Latent (20, 300)\n"
     ]
    }
   ],
   "source": [
    "with tf.Session() as sess:\n",
    "    network=Network()\n",
    "    network.build_network()\n",
    "    y = network.get_latent()\n",
    "    sess.run(tf.global_variables_initializer())\n",
    "    \n",
    "    Dataset.y = sess.run(y, feed_dict={network.latent:Dataset.latent_train})"
   ]
  },
  {
   "cell_type": "code",
   "execution_count": null,
   "metadata": {},
   "outputs": [],
   "source": [
    "Dataset.y"
   ]
  },
  {
   "cell_type": "code",
   "execution_count": null,
   "metadata": {},
   "outputs": [],
   "source": [
    "Dataset.y.shape"
   ]
  },
  {
   "cell_type": "code",
   "execution_count": null,
   "metadata": {},
   "outputs": [],
   "source": []
  }
 ],
 "metadata": {
  "kernelspec": {
   "display_name": "Python 3",
   "language": "python",
   "name": "python3"
  },
  "language_info": {
   "codemirror_mode": {
    "name": "ipython",
    "version": 3
   },
   "file_extension": ".py",
   "mimetype": "text/x-python",
   "name": "python",
   "nbconvert_exporter": "python",
   "pygments_lexer": "ipython3",
   "version": "3.6.5"
  }
 },
 "nbformat": 4,
 "nbformat_minor": 2
}
