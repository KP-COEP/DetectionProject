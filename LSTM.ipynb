{
 "cells": [
  {
   "cell_type": "code",
   "execution_count": 1,
   "metadata": {},
   "outputs": [
    {
     "name": "stderr",
     "output_type": "stream",
     "text": [
      "/home/kvpcloud/.conda/envs/p3_gpu/lib/python3.6/site-packages/h5py/__init__.py:36: FutureWarning: Conversion of the second argument of issubdtype from `float` to `np.floating` is deprecated. In future, it will be treated as `np.float64 == np.dtype(float).type`.\n",
      "  from ._conv import register_converters as _register_converters\n"
     ]
    }
   ],
   "source": [
    "import pandas as pd\n",
    "import numpy as np\n",
    "from matplotlib import pyplot as plt\n",
    "from IPython import display as ds\n",
    "import matplotlib.image as mpimg\n",
    "import cv2\n",
    "import tensorflow as tf\n",
    "import math\n",
    "\n",
    "%matplotlib inline"
   ]
  },
  {
   "cell_type": "code",
   "execution_count": 2,
   "metadata": {},
   "outputs": [],
   "source": [
    "class Dataset:\n",
    "    main = 'dataset/UCSD_Anomaly_Dataset.v1p2'\n",
    "    latent_train = np.load('{}/latent_train.npy'.format(main))\n",
    "    #test_images = np.load('{}/test.npy'.format(main))"
   ]
  },
  {
   "cell_type": "code",
   "execution_count": 3,
   "metadata": {},
   "outputs": [
    {
     "name": "stdout",
     "output_type": "stream",
     "text": [
      "[[0.09196392 0.0478623  0.13000081 ... 0.10197813 0.         0.03637807]\n",
      " [0.11980576 0.07599361 0.08409608 ... 0.11578386 0.         0.01681237]\n",
      " [0.04043263 0.06748637 0.09166412 ... 0.10462585 0.         0.04567996]\n",
      " ...\n",
      " [0.07251541 0.06275192 0.06756014 ... 0.07906516 0.         0.05174178]\n",
      " [0.05823517 0.05963557 0.09027178 ... 0.10724749 0.         0.0523259 ]\n",
      " [0.12807868 0.10718347 0.12245025 ... 0.07215846 0.         0.03251233]]\n"
     ]
    }
   ],
   "source": [
    "print(Dataset.latent_train)"
   ]
  },
  {
   "cell_type": "code",
   "execution_count": 4,
   "metadata": {},
   "outputs": [
    {
     "name": "stdout",
     "output_type": "stream",
     "text": [
      "(200, 300)\n"
     ]
    }
   ],
   "source": [
    "print(Dataset.latent_train.shape)"
   ]
  },
  {
   "cell_type": "code",
   "execution_count": 5,
   "metadata": {},
   "outputs": [],
   "source": [
    "class Params:\n",
    "    latent_feature_count = [10,10,3]\n",
    "    epochs = 1\n",
    "    input_batch_size = 200\n",
    "    output_size = 1"
   ]
  },
  {
   "cell_type": "code",
   "execution_count": 6,
   "metadata": {},
   "outputs": [],
   "source": [
    "class Network:\n",
    "    \n",
    "    def __init__(self):\n",
    "        self.latent = tf.placeholder(tf.float32, shape=[Params.input_batch_size] + [np.prod(Params.latent_feature_count)], name='x')\n",
    "        print('Input Latent', self.latent.get_shape())\n",
    "        hidden_state = tf.zeros([Params.output_size, np.prod(Params.latent_feature_count)])\n",
    "        current_state = tf.zeros([Params.output_size, np.prod(Params.latent_feature_count)])\n",
    "        self.state = hidden_state, current_state\n",
    "        \n",
    "        \n",
    "    def build_network(self):\n",
    "        \n",
    "        y_list = []\n",
    "        \n",
    "        with tf.name_scope('LSTM') as lstm_scope:\n",
    "            x = tf.layers.dense(self.latent, units=np.prod(Params.latent_feature_count), activation=tf.nn.relu)\n",
    "            \n",
    "            lstm = tf.contrib.rnn.BasicLSTMCell(512) #np.prod(Params.latent_feature_count))\n",
    "            x_list = tf.split(x, 10, axis=0)\n",
    "            #print(\"Mini Batch \", x_list.get_shape())\n",
    "            \n",
    "\n",
    "            y_list, self.state = tf.nn.static_rnn(lstm, x_list, dtype=tf.float32)\n",
    "            \n",
    "            self.y = y_list[-1]\n",
    "            self.y = tf.layers.dense(self.y, np.prod(Params.latent_feature_count))\n",
    "                \n",
    "            print('Output Latent', self.y.get_shape())\n",
    "            \n",
    "        with tf.name_scope('Weights'):\n",
    "            n = Params.input_batch_size\n",
    "            f = np.prod(Params.latent_feature_count)\n",
    "\n",
    "            X = self.y\n",
    "\n",
    "            P = tf.Variable(tf.truncated_normal([f]))\n",
    "            Q_ = tf.Variable(tf.truncated_normal([f])) \n",
    "            \n",
    "        with tf.name_scope('RBF'):\n",
    "            Q = tf.diag(tf.square(Q_)) + tf.eye(f) \n",
    "            #Q = tf.matmul(Q_, tf.transpose(Q_)) # Making is positive semi-definite\n",
    "\n",
    "            X = tf.layers.dense(X, f)\n",
    "            X = tf.layers.dense(X, f)\n",
    "\n",
    "            M = P - tf.matmul(X, Q)\n",
    "            print('M', M.get_shape())\n",
    "\n",
    "            R = tf.matmul(M, Q)\n",
    "            print('R', R.get_shape())\n",
    "\n",
    "            V = tf.matmul(R, tf.transpose(M))\n",
    "            print('V', V.get_shape())\n",
    "\n",
    "            U = tf.reduce_sum(V, axis = 1, keepdims = True)\n",
    "            print('U', U.get_shape())\n",
    "\n",
    "            Q_det = tf.matrix_determinant(Q)\n",
    "            print('Q_det', Q_det.get_shape())\n",
    "\n",
    "            Z = tf.pow(tf.multiply(tf.pow(2*math.pi,f), Q_det), 1/2)\n",
    "            print('Z', Z.get_shape())\n",
    "        \n",
    "        with tf.name_scope('Likelihood'):\n",
    "            Y_ = tf.divide(tf.exp(-U/2), Z)\n",
    "            print(\"Y_\", Y_.get_shape())\n",
    "            Y_ = tf.layers.dense(Y_, 1)\n",
    "            self.Y_ = tf.layers.dense(Y_, 1)\n",
    "            \n",
    "        with tf.name_scope('LossAndOptim'):\n",
    "            global_step = tf.Variable(0, trainable=False)\n",
    "            \n",
    "            cost = - (-U - tf.log(Z))\n",
    "            loss = tf.reduce_mean(cost)\n",
    "\n",
    "            starter_learning_rate = 0.01\n",
    "            learning_rate = tf.train.exponential_decay(starter_learning_rate, global_step,\n",
    "                                               1000, 0.5, staircase=True)\n",
    "            self.train = tf.train.AdamOptimizer(learning_rate).minimize(loss, global_step=global_step)\n"
   ]
  },
  {
   "cell_type": "code",
   "execution_count": 7,
   "metadata": {
    "scrolled": false
   },
   "outputs": [
    {
     "name": "stdout",
     "output_type": "stream",
     "text": [
      "Input Latent (200, 300)\n",
      "Output Latent (20, 300)\n",
      "M (20, 300)\n",
      "R (20, 300)\n",
      "V (20, 20)\n",
      "U (20, 1)\n",
      "Q_det ()\n",
      "Z ()\n",
      "Y_ (20, 1)\n"
     ]
    }
   ],
   "source": [
    "with tf.Session() as sess:\n",
    "    network=Network()\n",
    "    network.build_network()\n",
    "    sess.run(tf.global_variables_initializer())\n",
    "    \n",
    "    for i in range(2): # crashes in 3rd epoch\n",
    "        Dataset.likelihood, _, Dataset.latent = sess.run((network.Y_, network.train, network.y), \n",
    "                                                     feed_dict={network.latent:Dataset.latent_train})"
   ]
  },
  {
   "cell_type": "code",
   "execution_count": 8,
   "metadata": {},
   "outputs": [
    {
     "data": {
      "text/plain": [
       "array([[nan],\n",
       "       [nan],\n",
       "       [nan],\n",
       "       [nan],\n",
       "       [nan],\n",
       "       [nan],\n",
       "       [nan],\n",
       "       [nan],\n",
       "       [nan],\n",
       "       [nan],\n",
       "       [nan],\n",
       "       [nan],\n",
       "       [nan],\n",
       "       [nan],\n",
       "       [nan],\n",
       "       [nan],\n",
       "       [nan],\n",
       "       [nan],\n",
       "       [nan],\n",
       "       [nan]], dtype=float32)"
      ]
     },
     "execution_count": 8,
     "metadata": {},
     "output_type": "execute_result"
    }
   ],
   "source": [
    "Dataset.likelihood"
   ]
  },
  {
   "cell_type": "code",
   "execution_count": 9,
   "metadata": {},
   "outputs": [
    {
     "data": {
      "text/plain": [
       "(20, 1)"
      ]
     },
     "execution_count": 9,
     "metadata": {},
     "output_type": "execute_result"
    }
   ],
   "source": [
    "Dataset.likelihood.shape"
   ]
  },
  {
   "cell_type": "code",
   "execution_count": 10,
   "metadata": {},
   "outputs": [
    {
     "data": {
      "text/plain": [
       "array([[-0.65905994,  2.7989202 ,  1.6895077 , ..., -1.9592539 ,\n",
       "        -3.9366913 , -1.9573234 ],\n",
       "       [-0.66371995,  2.805173  ,  1.693853  , ..., -1.9630744 ,\n",
       "        -3.9431162 , -1.9619129 ],\n",
       "       [-0.6604975 ,  2.8030047 ,  1.6921544 , ..., -1.9615117 ,\n",
       "        -3.940509  , -1.9605842 ],\n",
       "       ...,\n",
       "       [-0.6623093 ,  2.8013177 ,  1.6893344 , ..., -1.9615673 ,\n",
       "        -3.9382448 , -1.9587536 ],\n",
       "       [-0.6580329 ,  2.7942502 ,  1.6845864 , ..., -1.9558983 ,\n",
       "        -3.9288182 , -1.952956  ],\n",
       "       [-0.6653598 ,  2.8128011 ,  1.698145  , ..., -1.9678222 ,\n",
       "        -3.951354  , -1.9664912 ]], dtype=float32)"
      ]
     },
     "execution_count": 10,
     "metadata": {},
     "output_type": "execute_result"
    }
   ],
   "source": [
    "Dataset.latent"
   ]
  },
  {
   "cell_type": "code",
   "execution_count": 11,
   "metadata": {},
   "outputs": [
    {
     "data": {
      "text/plain": [
       "(20, 300)"
      ]
     },
     "execution_count": 11,
     "metadata": {},
     "output_type": "execute_result"
    }
   ],
   "source": [
    "Dataset.latent.shape"
   ]
  },
  {
   "cell_type": "code",
   "execution_count": null,
   "metadata": {},
   "outputs": [],
   "source": []
  }
 ],
 "metadata": {
  "kernelspec": {
   "display_name": "Python 3",
   "language": "python",
   "name": "python3"
  },
  "language_info": {
   "codemirror_mode": {
    "name": "ipython",
    "version": 3
   },
   "file_extension": ".py",
   "mimetype": "text/x-python",
   "name": "python",
   "nbconvert_exporter": "python",
   "pygments_lexer": "ipython3",
   "version": "3.6.5"
  }
 },
 "nbformat": 4,
 "nbformat_minor": 2
}
